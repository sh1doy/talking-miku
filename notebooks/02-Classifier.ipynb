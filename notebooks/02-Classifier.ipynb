{
 "cells": [
  {
   "cell_type": "code",
   "execution_count": 1,
   "metadata": {},
   "outputs": [
    {
     "name": "stderr",
     "output_type": "stream",
     "text": [
      "/home/shido/.pyenv/versions/anaconda3-5.0.1/lib/python3.6/site-packages/h5py/__init__.py:34: FutureWarning: Conversion of the second argument of issubdtype from `float` to `np.floating` is deprecated. In future, it will be treated as `np.float64 == np.dtype(float).type`.\n",
      "  from ._conv import register_converters as _register_converters\n"
     ]
    }
   ],
   "source": [
    "# imports(default)\n",
    "import sys\n",
    "from glob import glob\n",
    "import numpy as np\n",
    "import gensim\n",
    "import MeCab\n",
    "sys.path.append(\"../src/\")\n",
    "from models import *\n",
    "from utils import *\n",
    "from tqdm import tqdm\n",
    "import chainer\n",
    "from prefetch_generator import BackgroundGenerator\n",
    "from IPython.display import clear_output\n",
    "from matplotlib import pylab as plt"
   ]
  },
  {
   "cell_type": "code",
   "execution_count": 2,
   "metadata": {
    "collapsed": true
   },
   "outputs": [],
   "source": [
    "char_files = glob(\"../dataset/charactor/*.txt\")\n",
    "conv_files = glob(\"../dataset/conversation/*.txt\")"
   ]
  },
  {
   "cell_type": "code",
   "execution_count": 3,
   "metadata": {
    "collapsed": true
   },
   "outputs": [],
   "source": [
    "char_texts = [read_file(file) for file in char_files]\n",
    "conv_texts = [read_file(file) for file in conv_files]"
   ]
  },
  {
   "cell_type": "code",
   "execution_count": 4,
   "metadata": {
    "collapsed": true
   },
   "outputs": [],
   "source": [
    "parser = Parser()"
   ]
  },
  {
   "cell_type": "code",
   "execution_count": 5,
   "metadata": {
    "collapsed": true
   },
   "outputs": [],
   "source": [
    "vocab = set()\n",
    "for conv in conv_texts:\n",
    "    for line in conv:\n",
    "        vocab = vocab.union(set(parser.parse(line)))\n",
    "for conv in char_texts:\n",
    "    for line in conv:\n",
    "        vocab = vocab.union(set(parser.parse(line)))"
   ]
  },
  {
   "cell_type": "code",
   "execution_count": 6,
   "metadata": {
    "collapsed": true
   },
   "outputs": [],
   "source": [
    "word2id = {}\n",
    "id2word = {}\n",
    "\n",
    "for e, word in enumerate([\"<PAD>\", \"<BOS>\", \"<EOS>\", \"<UNK>\"] + sorted(list(vocab))):\n",
    "    word2id[word] = e\n",
    "    id2word[e] = word"
   ]
  },
  {
   "cell_type": "code",
   "execution_count": 7,
   "metadata": {
    "collapsed": true
   },
   "outputs": [],
   "source": [
    "tokenizer = Tokenizer(word2id, id2word)\n",
    "char_seqs = [[tokenizer.encode(parser.parse(line)) for line in text] for text in char_texts]\n",
    "conv_seqs = [[tokenizer.encode(parser.parse(line)) for line in text] for text in conv_texts]"
   ]
  },
  {
   "cell_type": "code",
   "execution_count": 8,
   "metadata": {
    "collapsed": true
   },
   "outputs": [],
   "source": [
    "EMBEDDING_SIZE = 200\n",
    "NUM_UNITS = 400\n",
    "SEQ_LEN = 150\n",
    "BEAM_WIDTH = 3\n",
    "BATCH_SIZE = 256\n",
    "VOCAB = len(word2id)"
   ]
  },
  {
   "cell_type": "code",
   "execution_count": 9,
   "metadata": {
    "collapsed": true
   },
   "outputs": [],
   "source": [
    "clf_conv = []\n",
    "for text in conv_seqs:\n",
    "    clf_conv += text[1::2]\n",
    "clf_char = []\n",
    "for text in char_seqs:\n",
    "    clf_char += text\n",
    "clf_x = clf_char + clf_conv\n",
    "clf_y = [1 for _ in clf_char] + [0 for _ in clf_conv]\n",
    "perm = np.random.permutation(len(clf_x))\n",
    "clf_x = [clf_x[i] for i in perm]\n",
    "clf_y = [clf_y[i] for i in perm]"
   ]
  },
  {
   "cell_type": "code",
   "execution_count": 10,
   "metadata": {
    "collapsed": true
   },
   "outputs": [],
   "source": [
    "# Setting Data Generator\n",
    "def mygen(X, Y, batch_size, train=True):\n",
    "    if train:\n",
    "        newindex = list(np.random.permutation(len(X)))\n",
    "        X = [X[i] for i in newindex]\n",
    "        Y = [Y[i] for i in newindex]\n",
    "    for i in range(0, len(X), batch_size):\n",
    "        x = [np.array(x, \"int32\") for x in X[i:i+batch_size]]\n",
    "        y = np.array(Y[i:i+batch_size], \"int32\")\n",
    "        yield(x, y)"
   ]
  },
  {
   "cell_type": "code",
   "execution_count": 11,
   "metadata": {
    "collapsed": true
   },
   "outputs": [],
   "source": [
    "model = Classifier(VOCAB, SEQ_LEN, EMBEDDING_SIZE, NUM_UNITS, 1)\n",
    "model.to_gpu(0)\n",
    "epochs = 5\n",
    "batch_size = 128\n",
    "optimizer = chainer.optimizers.Adam(1e-3)\n",
    "optimizer.setup(model)\n",
    "history = {\"loss\":[]}"
   ]
  },
  {
   "cell_type": "code",
   "execution_count": 12,
   "metadata": {
    "scrolled": false
   },
   "outputs": [
    {
     "name": "stderr",
     "output_type": "stream",
     "text": [
      "100%|██████████| 5/5 [00:10<00:00,  2.04s/it]\n"
     ]
    }
   ],
   "source": [
    "# training\n",
    "for epoch in tqdm(range(epochs)):\n",
    "    \n",
    "    # train\n",
    "    tmp_loss = 0.0\n",
    "    gen = BackgroundGenerator(mygen(clf_x, clf_y, batch_size))\n",
    "    for x, y in gen:\n",
    "        x = to_device0(x)\n",
    "        y = to_device0(y)\n",
    "        \n",
    "        loss = model.get_loss(x, y)\n",
    "        model.cleargrads()\n",
    "        loss.backward()\n",
    "        optimizer.update()\n",
    "        \n",
    "        tmp_loss += float(loss.data)\n",
    "    \n",
    "    tmp_loss /= len(clf_x)\n",
    "    history[\"loss\"].append(tmp_loss)\n",
    "\n",
    "    # checkpoint\n",
    "    if tmp_loss == min(history[\"loss\"]):\n",
    "        model.to_cpu()\n",
    "        chainer.serializers.save_npz(\"../models/clf_{:03d}_{:.06f}.npz\".format(epoch+1, tmp_loss), model)\n",
    "        model.to_gpu()"
   ]
  },
  {
   "cell_type": "code",
   "execution_count": null,
   "metadata": {
    "collapsed": true
   },
   "outputs": [],
   "source": [
    "chainer.serializers.load_npz(\"../models/clf_005_0.005451.npz\", model)"
   ]
  },
  {
   "cell_type": "code",
   "execution_count": 15,
   "metadata": {},
   "outputs": [
    {
     "data": {
      "text/plain": [
       "variable([6.4912171e-04, 9.6422905e-01])"
      ]
     },
     "execution_count": 15,
     "metadata": {},
     "output_type": "execute_result"
    }
   ],
   "source": [
    "query = [\"前川です\", \"みくだにゃ\"]\n",
    "query = [tokenizer.encode(parser.parse(q)) for q in query]\n",
    "\n",
    "model.predict(cuda.to_gpu(query))"
   ]
  },
  {
   "cell_type": "code",
   "execution_count": null,
   "metadata": {
    "collapsed": true
   },
   "outputs": [],
   "source": []
  }
 ],
 "metadata": {
  "anaconda-cloud": {},
  "kernelspec": {
   "display_name": "Python 3",
   "language": "python",
   "name": "python3"
  },
  "language_info": {
   "codemirror_mode": {
    "name": "ipython",
    "version": 3
   },
   "file_extension": ".py",
   "mimetype": "text/x-python",
   "name": "python",
   "nbconvert_exporter": "python",
   "pygments_lexer": "ipython3",
   "version": "3.6.3"
  }
 },
 "nbformat": 4,
 "nbformat_minor": 1
}
