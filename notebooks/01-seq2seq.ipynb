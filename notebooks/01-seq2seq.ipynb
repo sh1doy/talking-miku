{
 "cells": [
  {
   "cell_type": "code",
   "execution_count": 1,
   "metadata": {},
   "outputs": [
    {
     "name": "stderr",
     "output_type": "stream",
     "text": [
      "/home/shido/.pyenv/versions/anaconda3-5.0.1/lib/python3.6/site-packages/h5py/__init__.py:34: FutureWarning: Conversion of the second argument of issubdtype from `float` to `np.floating` is deprecated. In future, it will be treated as `np.float64 == np.dtype(float).type`.\n",
      "  from ._conv import register_converters as _register_converters\n"
     ]
    }
   ],
   "source": [
    "# imports(default)\n",
    "import sys\n",
    "from glob import glob\n",
    "from tqdm import tqdm\n",
    "import numpy as np\n",
    "import gensim\n",
    "import MeCab\n",
    "sys.path.append(\"../src\")\n",
    "from models import *\n",
    "from utils import *\n",
    "import chainer\n",
    "from prefetch_generator import BackgroundGenerator\n",
    "from IPython.display import clear_output\n",
    "from matplotlib import pylab as plt"
   ]
  },
  {
   "cell_type": "code",
   "execution_count": 2,
   "metadata": {
    "collapsed": true
   },
   "outputs": [],
   "source": [
    "char_files = glob(\"../dataset/charactor/*.txt\")\n",
    "conv_files = glob(\"../dataset/conversation/*.txt\")"
   ]
  },
  {
   "cell_type": "code",
   "execution_count": 3,
   "metadata": {
    "collapsed": true
   },
   "outputs": [],
   "source": [
    "char_texts = [read_file(file) for file in char_files]\n",
    "conv_texts = [read_file(file) for file in conv_files]"
   ]
  },
  {
   "cell_type": "code",
   "execution_count": 4,
   "metadata": {
    "collapsed": true
   },
   "outputs": [],
   "source": [
    "parser = Parser()"
   ]
  },
  {
   "cell_type": "code",
   "execution_count": 5,
   "metadata": {
    "collapsed": true
   },
   "outputs": [],
   "source": [
    "vocab = set()\n",
    "for conv in conv_texts:\n",
    "    for line in conv:\n",
    "        vocab = vocab.union(set(parser.parse(line)))\n",
    "for conv in char_texts:\n",
    "    for line in conv:\n",
    "        vocab = vocab.union(set(parser.parse(line)))"
   ]
  },
  {
   "cell_type": "code",
   "execution_count": 6,
   "metadata": {
    "collapsed": true
   },
   "outputs": [],
   "source": [
    "word2id = {}\n",
    "id2word = {}\n",
    "\n",
    "for e, word in enumerate([\"<PAD>\", \"<BOS>\", \"<EOS>\", \"<UNK>\"] + sorted(list(vocab))):\n",
    "    word2id[word] = e\n",
    "    id2word[e] = word"
   ]
  },
  {
   "cell_type": "code",
   "execution_count": 7,
   "metadata": {
    "collapsed": true
   },
   "outputs": [],
   "source": [
    "tokenizer = Tokenizer(word2id, id2word)\n",
    "char_seqs = [[tokenizer.encode(parser.parse(line)) for line in text] for text in char_texts]\n",
    "conv_seqs = [[tokenizer.encode(parser.parse(line)) for line in text] for text in conv_texts]"
   ]
  },
  {
   "cell_type": "code",
   "execution_count": 8,
   "metadata": {
    "collapsed": true
   },
   "outputs": [],
   "source": [
    "conv_x = []\n",
    "conv_y = []"
   ]
  },
  {
   "cell_type": "code",
   "execution_count": 9,
   "metadata": {
    "collapsed": true
   },
   "outputs": [],
   "source": [
    "for text in conv_seqs:\n",
    "    conv_x += text[0::2]\n",
    "    conv_y += text[1::2]"
   ]
  },
  {
   "cell_type": "code",
   "execution_count": 10,
   "metadata": {
    "collapsed": true
   },
   "outputs": [],
   "source": [
    "EMBEDDING_SIZE = 200\n",
    "NUM_UNITS = 400\n",
    "SEQ_LEN = 150\n",
    "LAYERS = 3\n",
    "BATCH_SIZE = 256\n",
    "VOCAB = len(word2id)"
   ]
  },
  {
   "cell_type": "code",
   "execution_count": 12,
   "metadata": {
    "collapsed": true,
    "scrolled": true
   },
   "outputs": [],
   "source": [
    "# setting model\n",
    "model = Seq2seq(VOCAB, SEQ_LEN, EMBEDDING_SIZE, NUM_UNITS, LAYERS)\n",
    "model.to_gpu(0)\n",
    "epochs = 1000\n",
    "batch_size = 128\n",
    "optimizer = chainer.optimizers.Adam(1e-4)\n",
    "optimizer.setup(model)\n",
    "history = {\"loss\":[]}"
   ]
  },
  {
   "cell_type": "code",
   "execution_count": 13,
   "metadata": {
    "collapsed": true
   },
   "outputs": [],
   "source": [
    "# Setting Data Generator\n",
    "def mygen(X, Y, batch_size, train=True):\n",
    "    if train:\n",
    "        newindex = list(np.random.permutation(len(X)))\n",
    "        X = [X[i] for i in newindex]\n",
    "        Y = [Y[i] for i in newindex]\n",
    "    for i in range(0, len(X), batch_size):\n",
    "        x = [np.array(x, \"int32\") for x in X[i:i+batch_size]]\n",
    "        y = [np.array(y, \"int32\") for y in Y[i:i+batch_size]]\n",
    "        yield(x, y)"
   ]
  },
  {
   "cell_type": "code",
   "execution_count": null,
   "metadata": {
    "scrolled": true
   },
   "outputs": [
    {
     "name": "stderr",
     "output_type": "stream",
     "text": [
      "  8%|▊         | 75/1000 [05:04<1:02:39,  4.06s/it]"
     ]
    }
   ],
   "source": [
    "# training\n",
    "for epoch in tqdm(range(epochs)):\n",
    "    \n",
    "    # train\n",
    "    tmp_loss = 0.0\n",
    "    gen = BackgroundGenerator(mygen(conv_x, conv_y, batch_size))\n",
    "    for x, y in gen:\n",
    "        x = to_device0(x)\n",
    "        y = to_device0(y)\n",
    "        \n",
    "        loss = model.get_loss(x, y)\n",
    "        model.cleargrads()\n",
    "        loss.backward()\n",
    "        optimizer.update()\n",
    "        \n",
    "        tmp_loss += float(loss.data) * len(y)\n",
    "    \n",
    "    tmp_loss /= len(conv_x)\n",
    "    history[\"loss\"].append(tmp_loss)\n",
    "#     print(tmp_loss)\n",
    "\n",
    "    # checkpoint\n",
    "    if tmp_loss == min(history[\"loss\"]) and (epoch + 1) % 50 == 0:\n",
    "        model.to_cpu()\n",
    "        chainer.serializers.save_npz(\"../models/seq2seq_{:03d}_{:.06f}.npz\".format(epoch+1, tmp_loss), model)\n",
    "        model.to_gpu()"
   ]
  },
  {
   "cell_type": "code",
   "execution_count": 14,
   "metadata": {},
   "outputs": [],
   "source": [
    "chainer.serializers.load_npz(\"../models/seq2seq_280_0.452123.npz\", model)"
   ]
  },
  {
   "cell_type": "code",
   "execution_count": 15,
   "metadata": {},
   "outputs": [
    {
     "name": "stdout",
     "output_type": "stream",
     "text": [
      "['どんなジャンルの音楽が好きですか？', 'どんなジャンルが好きなんですか？']\n",
      "['早く利用利用しては覚えています。', '色々が好きです。']\n"
     ]
    }
   ],
   "source": [
    "i = 111\n",
    "source = conv_x[i:i+2]\n",
    "source = to_device0(source)\n",
    "inputs = F.pad_sequence(source, 150)\n",
    "states = model.translate(inputs, 150)\n",
    "print(tokenizer.decode_batch(cuda.to_cpu(source)))\n",
    "print(tokenizer.decode_batch(cuda.to_cpu(states)))"
   ]
  },
  {
   "cell_type": "code",
   "execution_count": 23,
   "metadata": {},
   "outputs": [
    {
     "name": "stdout",
     "output_type": "stream",
     "text": [
      "['無理', 'です', 'よ', 'ね']\n",
      "['無理ですよね']\n",
      "して楽しみです。\n"
     ]
    }
   ],
   "source": [
    "query = \"無理ですよね\"\n",
    "print(parser.parse(query))\n",
    "query = [tokenizer.encode(parser.parse(query))]\n",
    "print(tokenizer.decode_batch(query))\n",
    "query = F.pad_sequence(cuda.to_gpu(query), 150)\n",
    "result = model.translate(query)\n",
    "print(tokenizer.decode(cuda.to_cpu(result[0])))"
   ]
  },
  {
   "cell_type": "code",
   "execution_count": null,
   "metadata": {
    "collapsed": true
   },
   "outputs": [],
   "source": []
  }
 ],
 "metadata": {
  "anaconda-cloud": {},
  "kernelspec": {
   "display_name": "Python 3",
   "language": "python",
   "name": "python3"
  },
  "language_info": {
   "codemirror_mode": {
    "name": "ipython",
    "version": 3
   },
   "file_extension": ".py",
   "mimetype": "text/x-python",
   "name": "python",
   "nbconvert_exporter": "python",
   "pygments_lexer": "ipython3",
   "version": "3.6.3"
  }
 },
 "nbformat": 4,
 "nbformat_minor": 1
}
