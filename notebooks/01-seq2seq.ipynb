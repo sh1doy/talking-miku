{
 "cells": [
  {
   "cell_type": "code",
   "execution_count": 1,
   "metadata": {},
   "outputs": [
    {
     "name": "stderr",
     "output_type": "stream",
     "text": [
      "/home/shido/.pyenv/versions/anaconda3-5.0.1/lib/python3.6/site-packages/h5py/__init__.py:34: FutureWarning: Conversion of the second argument of issubdtype from `float` to `np.floating` is deprecated. In future, it will be treated as `np.float64 == np.dtype(float).type`.\n",
      "  from ._conv import register_converters as _register_converters\n"
     ]
    }
   ],
   "source": [
    "# imports(default)\n",
    "import sys\n",
    "from glob import glob\n",
    "import numpy as np\n",
    "import tensorflow as tf\n",
    "import gensim\n",
    "import MeCab\n",
    "from tensorflow.python.keras.models import Model\n",
    "from tensorflow.python.keras.layers import *\n",
    "from tensorflow.python.keras import backend as K\n",
    "from tensorflow.python.keras.optimizers import *\n",
    "keras = tf.keras"
   ]
  },
  {
   "cell_type": "code",
   "execution_count": 2,
   "metadata": {
    "collapsed": true
   },
   "outputs": [],
   "source": [
    "char_files = glob(\"../dataset/charactor/*.txt\")\n",
    "conv_files = glob(\"../dataset/conversation/*.txt\")"
   ]
  },
  {
   "cell_type": "code",
   "execution_count": 3,
   "metadata": {
    "collapsed": true
   },
   "outputs": [],
   "source": [
    "char_texts = [read_file(file) for file in char_files]\n",
    "conv_texts = [read_file(file) for file in conv_files]"
   ]
  },
  {
   "cell_type": "code",
   "execution_count": 4,
   "metadata": {
    "collapsed": true
   },
   "outputs": [],
   "source": [
    "parser = Parser()"
   ]
  },
  {
   "cell_type": "code",
   "execution_count": 5,
   "metadata": {
    "collapsed": true
   },
   "outputs": [],
   "source": [
    "vocab = set()\n",
    "for conv in conv_texts:\n",
    "    for line in conv:\n",
    "        vocab = vocab.union(set(parser.parse(line)))\n",
    "for conv in char_texts:\n",
    "    for line in conv:\n",
    "        vocab = vocab.union(set(parser.parse(line)))"
   ]
  },
  {
   "cell_type": "code",
   "execution_count": 6,
   "metadata": {
    "collapsed": true
   },
   "outputs": [],
   "source": [
    "word2id = {}\n",
    "id2word = {}\n",
    "\n",
    "for e, word in enumerate([\"<PAD>\", \"<BOS>\", \"<EOS>\", \"<UNK>\"] + sorted(list(vocab))):\n",
    "    word2id[word] = e\n",
    "    id2word[e] = word"
   ]
  },
  {
   "cell_type": "code",
   "execution_count": 7,
   "metadata": {
    "collapsed": true
   },
   "outputs": [],
   "source": [
    "tokenizer = Tokenizer(word2id, id2word)\n",
    "char_seqs = [[tokenizer.encode(parser.parse(line)) for line in text] for text in char_texts]\n",
    "conv_seqs = [[tokenizer.encode(parser.parse(line)) for line in text] for text in conv_texts]"
   ]
  },
  {
   "cell_type": "code",
   "execution_count": 8,
   "metadata": {
    "collapsed": true
   },
   "outputs": [],
   "source": [
    "conv_x = []\n",
    "conv_y = []"
   ]
  },
  {
   "cell_type": "code",
   "execution_count": 9,
   "metadata": {
    "collapsed": true
   },
   "outputs": [],
   "source": [
    "for text in conv_seqs:\n",
    "    conv_x += text[0::2]\n",
    "    conv_y += text[1::2]"
   ]
  },
  {
   "cell_type": "code",
   "execution_count": 10,
   "metadata": {
    "collapsed": true
   },
   "outputs": [],
   "source": [
    "EMBEDDING_SIZE = 200\n",
    "NUM_UNITS = 400\n",
    "SEQ_LEN = 150\n",
    "BEAM_WIDTH = 3\n",
    "BATCH_SIZE = 256\n",
    "VOCAB = len(word2id)"
   ]
  },
  {
   "cell_type": "code",
   "execution_count": null,
   "metadata": {
    "collapsed": true,
    "scrolled": true
   },
   "outputs": [],
   "source": [
    "from tensorflow.python.keras.callbacks import *\n",
    "\n",
    "x, y = get_batch(conv_x, conv_y, SEQ_LEN)\n",
    "clbk = [ModelCheckpoint(\"../models/weights.{epoch:03d}.hdf5\", period=10)]\n",
    "model.training_model.fit(x, y[:,:,np.newaxis], 64, epochs=100, callbacks=clbk, shuffle=True, initial_epoch=10)"
   ]
  },
  {
   "cell_type": "code",
   "execution_count": 13,
   "metadata": {
    "collapsed": true
   },
   "outputs": [],
   "source": [
    "model.training_model.load_weights(\"../models/weights.100.hdf5\")"
   ]
  },
  {
   "cell_type": "code",
   "execution_count": 14,
   "metadata": {},
   "outputs": [
    {
     "name": "stdout",
     "output_type": "stream",
     "text": [
      "['どんなジャンルの音楽が好きですか？', 'どんなジャンルが好きなんですか？']\n",
      "['海に行かないんですか？', 'すごく簡単です。']\n"
     ]
    }
   ],
   "source": [
    "i = 111\n",
    "source = conv_x[i:i+2]\n",
    "inputs = pad_sequences(source, 150, padding=\"post\", truncating=\"post\")\n",
    "states = model.predict_sequence(inputs, 50, mode=\"random\", alpha=1)\n",
    "print(tokenizer.decode_batch(source))\n",
    "print(tokenizer.decode_batch(states))"
   ]
  },
  {
   "cell_type": "code",
   "execution_count": 20,
   "metadata": {},
   "outputs": [
    {
     "name": "stdout",
     "output_type": "stream",
     "text": [
      "['明日', 'は', '何', 'を', 'し', 'ます', 'か']\n",
      "\n",
      "ぼくはペットへ大好きです\n"
     ]
    }
   ],
   "source": [
    "query = \"明日は何をしますか\"\n",
    "print(parser.parse(query))\n",
    "query = [tokenizer.encode(parser.parse(query))]\n",
    "print(tokenizer.decode(query))\n",
    "query = pad_sequences(query, 150, padding=\"post\", truncating=\"post\")\n",
    "result = model.predict_sequence(query, 50, mode=\"random\", alpha=.8)\n",
    "print(tokenizer.decode(result[0]))"
   ]
  },
  {
   "cell_type": "code",
   "execution_count": null,
   "metadata": {
    "collapsed": true
   },
   "outputs": [],
   "source": []
  }
 ],
 "metadata": {
  "anaconda-cloud": {},
  "kernelspec": {
   "display_name": "Python 3",
   "language": "python",
   "name": "python3"
  },
  "language_info": {
   "codemirror_mode": {
    "name": "ipython",
    "version": 3
   },
   "file_extension": ".py",
   "mimetype": "text/x-python",
   "name": "python",
   "nbconvert_exporter": "python",
   "pygments_lexer": "ipython3",
   "version": "3.6.3"
  }
 },
 "nbformat": 4,
 "nbformat_minor": 1
}
