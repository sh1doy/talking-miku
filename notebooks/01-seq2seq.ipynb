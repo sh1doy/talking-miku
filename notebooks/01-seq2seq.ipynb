{
 "cells": [
  {
   "cell_type": "code",
   "execution_count": 16,
   "metadata": {},
   "outputs": [],
   "source": [
    "# imports(default)\n",
    "import sys\n",
    "from glob import glob\n",
    "from tqdm import tqdm\n",
    "import numpy as np\n",
    "import gensim\n",
    "import MeCab\n",
    "sys.path.append(\"../\")\n",
    "from models import *\n",
    "from utils import *\n",
    "from chainer import optimizers\n",
    "from prefetch_generator import BackgroundGenerator"
   ]
  },
  {
   "cell_type": "code",
   "execution_count": 2,
   "metadata": {
    "collapsed": true
   },
   "outputs": [],
   "source": [
    "char_files = glob(\"../dataset/charactor/*.txt\")\n",
    "conv_files = glob(\"../dataset/conversation/*.txt\")"
   ]
  },
  {
   "cell_type": "code",
   "execution_count": 3,
   "metadata": {},
   "outputs": [],
   "source": [
    "char_texts = [read_file(file) for file in char_files]\n",
    "conv_texts = [read_file(file) for file in conv_files]"
   ]
  },
  {
   "cell_type": "code",
   "execution_count": 4,
   "metadata": {
    "collapsed": true
   },
   "outputs": [],
   "source": [
    "parser = Parser()"
   ]
  },
  {
   "cell_type": "code",
   "execution_count": 5,
   "metadata": {
    "collapsed": true
   },
   "outputs": [],
   "source": [
    "vocab = set()\n",
    "for conv in conv_texts:\n",
    "    for line in conv:\n",
    "        vocab = vocab.union(set(parser.parse(line)))\n",
    "for conv in char_texts:\n",
    "    for line in conv:\n",
    "        vocab = vocab.union(set(parser.parse(line)))"
   ]
  },
  {
   "cell_type": "code",
   "execution_count": 6,
   "metadata": {
    "collapsed": true
   },
   "outputs": [],
   "source": [
    "word2id = {}\n",
    "id2word = {}\n",
    "\n",
    "for e, word in enumerate([\"<PAD>\", \"<BOS>\", \"<EOS>\", \"<UNK>\"] + sorted(list(vocab))):\n",
    "    word2id[word] = e\n",
    "    id2word[e] = word"
   ]
  },
  {
   "cell_type": "code",
   "execution_count": 7,
   "metadata": {},
   "outputs": [],
   "source": [
    "tokenizer = Tokenizer(word2id, id2word)\n",
    "char_seqs = [[tokenizer.encode(parser.parse(line)) for line in text] for text in char_texts]\n",
    "conv_seqs = [[tokenizer.encode(parser.parse(line)) for line in text] for text in conv_texts]"
   ]
  },
  {
   "cell_type": "code",
   "execution_count": 8,
   "metadata": {
    "collapsed": true
   },
   "outputs": [],
   "source": [
    "conv_x = []\n",
    "conv_y = []"
   ]
  },
  {
   "cell_type": "code",
   "execution_count": 9,
   "metadata": {
    "collapsed": true
   },
   "outputs": [],
   "source": [
    "for text in conv_seqs:\n",
    "    conv_x += text[0::2]\n",
    "    conv_y += text[1::2]"
   ]
  },
  {
   "cell_type": "code",
   "execution_count": 11,
   "metadata": {
    "collapsed": true
   },
   "outputs": [],
   "source": [
    "EMBEDDING_SIZE = 200\n",
    "NUM_UNITS = 400\n",
    "SEQ_LEN = 150\n",
    "LAYERS = 2\n",
    "BATCH_SIZE = 256\n",
    "VOCAB = len(word2id)"
   ]
  },
  {
   "cell_type": "code",
   "execution_count": 12,
   "metadata": {
    "scrolled": true
   },
   "outputs": [],
   "source": [
    "# setting model\n",
    "model = Model(VOCAB, SEQ_LEN, EMBEDDING_SIZE, NUM_UNITS, LAYERS)\n",
    "model.to_gpu(0)\n",
    "epochs = 100\n",
    "batch_size = 128\n",
    "optimizer = optimizers.Adam()\n",
    "optimizer.setup(model)\n",
    "history = {\"loss\":[], \"loss_val\":[], \"bleu\": []}"
   ]
  },
  {
   "cell_type": "code",
   "execution_count": 26,
   "metadata": {},
   "outputs": [],
   "source": [
    "# Setting Data Generator\n",
    "def mygen(X, Y, batch_size, train=True):\n",
    "    if train:\n",
    "        newindex = list(np.random.permutation(len(X)))\n",
    "        X = [X[i] for i in newindex]\n",
    "        Y = [Y[i] for i in newindex]\n",
    "    for i in range(0, len(X), batch_size):\n",
    "        x = [np.array(x, \"int32\") for x in X[i:i+batch_size]]\n",
    "        y = [np.array(y, \"int32\") for y in Y[i:i+batch_size]]\n",
    "        yield(x, y)\n",
    "\n",
    "gen = BackgroundGenerator(mygen(conv_x, conv_y, batch_size))"
   ]
  },
  {
   "cell_type": "code",
   "execution_count": 27,
   "metadata": {},
   "outputs": [
    {
     "name": "stderr",
     "output_type": "stream",
     "text": [
      "train: 25it [00:08,  2.82it/s]\n"
     ]
    },
    {
     "ename": "NameError",
     "evalue": "name 'Y_trn' is not defined",
     "output_type": "error",
     "traceback": [
      "\u001b[0;31m---------------------------------------------------------------------------\u001b[0m",
      "\u001b[0;31mNameError\u001b[0m                                 Traceback (most recent call last)",
      "\u001b[0;32m<ipython-input-27-99158a84991f>\u001b[0m in \u001b[0;36m<module>\u001b[0;34m()\u001b[0m\n\u001b[1;32m     17\u001b[0m         \u001b[0mtmp_loss\u001b[0m \u001b[0;34m+=\u001b[0m \u001b[0mfloat\u001b[0m\u001b[0;34m(\u001b[0m\u001b[0mloss\u001b[0m\u001b[0;34m.\u001b[0m\u001b[0mdata\u001b[0m\u001b[0;34m)\u001b[0m \u001b[0;34m*\u001b[0m \u001b[0mlen\u001b[0m\u001b[0;34m(\u001b[0m\u001b[0my\u001b[0m\u001b[0;34m)\u001b[0m\u001b[0;34m\u001b[0m\u001b[0m\n\u001b[1;32m     18\u001b[0m \u001b[0;34m\u001b[0m\u001b[0m\n\u001b[0;32m---> 19\u001b[0;31m     \u001b[0mhistory\u001b[0m\u001b[0;34m[\u001b[0m\u001b[0;34m\"loss\"\u001b[0m\u001b[0;34m]\u001b[0m\u001b[0;34m.\u001b[0m\u001b[0mappend\u001b[0m\u001b[0;34m(\u001b[0m\u001b[0mtmp_loss\u001b[0m \u001b[0;34m/\u001b[0m \u001b[0mlen\u001b[0m\u001b[0;34m(\u001b[0m\u001b[0mY_trn\u001b[0m\u001b[0;34m)\u001b[0m\u001b[0;34m)\u001b[0m\u001b[0;34m\u001b[0m\u001b[0m\n\u001b[0m\u001b[1;32m     20\u001b[0m \u001b[0;34m\u001b[0m\u001b[0m\n\u001b[1;32m     21\u001b[0m     \u001b[0;31m# loss evaluation\u001b[0m\u001b[0;34m\u001b[0m\u001b[0;34m\u001b[0m\u001b[0m\n",
      "\u001b[0;31mNameError\u001b[0m: name 'Y_trn' is not defined"
     ]
    }
   ],
   "source": [
    "# training\n",
    "for epoch in range(epochs):\n",
    "    \n",
    "    # train\n",
    "    tmp_loss = 0.0\n",
    "    for x, y in tqdm(gen, \"train\"):\n",
    "        x = to_device0(x)\n",
    "        y = to_device0(y)\n",
    "        x = F.pad_sequence(x, SEQ_LEN)\n",
    "        y = F.pad_sequence(y, SEQ_LEN)\n",
    "        \n",
    "        loss = model.get_loss(x, y)\n",
    "        model.cleargrads()\n",
    "        loss.backward()\n",
    "        optimizer.update()\n",
    "        \n",
    "        tmp_loss += float(loss.data) * len(y)\n",
    "        \n",
    "    history[\"loss\"].append(tmp_loss / len(conv_x))\n",
    "\n",
    "    # checkpoint\n",
    "    if bleu == max(history[\"bleu\"]):\n",
    "        model.to_cpu()\n",
    "        serializers.save_npz(\"models/seq2seq.npz\", model)\n",
    "        model.to_gpu()\n",
    "    \n",
    "    # print\n",
    "    clear_output()\n",
    "    for key, val in history.items():\n",
    "        if \"loss\" in key:\n",
    "            plt.plot(val, label=key)\n",
    "    plt.legend()\n",
    "    plt.show()\n",
    "    for key, val in history.items():\n",
    "        if \"bleu\" in key:\n",
    "            plt.plot(val, label=key)\n",
    "    plt.legend()\n",
    "    plt.show()\n",
    "    \n",
    "    optimizer.new_epoch()"
   ]
  },
  {
   "cell_type": "code",
   "execution_count": 13,
   "metadata": {
    "collapsed": true
   },
   "outputs": [],
   "source": [
    "model.training_model.load_weights(\"../models/weights.100.hdf5\")"
   ]
  },
  {
   "cell_type": "code",
   "execution_count": 14,
   "metadata": {},
   "outputs": [
    {
     "name": "stdout",
     "output_type": "stream",
     "text": [
      "['どんなジャンルの音楽が好きですか？', 'どんなジャンルが好きなんですか？']\n",
      "['海に行かないんですか？', 'すごく簡単です。']\n"
     ]
    }
   ],
   "source": [
    "i = 111\n",
    "source = conv_x[i:i+2]\n",
    "inputs = pad_sequences(source, 150, padding=\"post\", truncating=\"post\")\n",
    "states = model.predict_sequence(inputs, 50, mode=\"random\", alpha=1)\n",
    "print(tokenizer.decode_batch(source))\n",
    "print(tokenizer.decode_batch(states))"
   ]
  },
  {
   "cell_type": "code",
   "execution_count": 20,
   "metadata": {},
   "outputs": [
    {
     "name": "stdout",
     "output_type": "stream",
     "text": [
      "['明日', 'は', '何', 'を', 'し', 'ます', 'か']\n",
      "\n",
      "ぼくはペットへ大好きです\n"
     ]
    }
   ],
   "source": [
    "query = \"明日は何をしますか\"\n",
    "print(parser.parse(query))\n",
    "query = [tokenizer.encode(parser.parse(query))]\n",
    "print(tokenizer.decode(query))\n",
    "query = pad_sequences(query, 150, padding=\"post\", truncating=\"post\")\n",
    "result = model.predict_sequence(query, 50, mode=\"random\", alpha=.8)\n",
    "print(tokenizer.decode(result[0]))"
   ]
  },
  {
   "cell_type": "code",
   "execution_count": null,
   "metadata": {
    "collapsed": true
   },
   "outputs": [],
   "source": []
  }
 ],
 "metadata": {
  "anaconda-cloud": {},
  "kernelspec": {
   "display_name": "Python 3",
   "language": "python",
   "name": "python3"
  },
  "language_info": {
   "codemirror_mode": {
    "name": "ipython",
    "version": 3
   },
   "file_extension": ".py",
   "mimetype": "text/x-python",
   "name": "python",
   "nbconvert_exporter": "python",
   "pygments_lexer": "ipython3",
   "version": "3.6.3"
  }
 },
 "nbformat": 4,
 "nbformat_minor": 1
}
